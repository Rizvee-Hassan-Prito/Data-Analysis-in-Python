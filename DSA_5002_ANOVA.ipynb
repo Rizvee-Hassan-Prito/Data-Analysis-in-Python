{
  "nbformat": 4,
  "nbformat_minor": 0,
  "metadata": {
    "colab": {
      "provenance": []
    },
    "kernelspec": {
      "name": "python3",
      "display_name": "Python 3"
    },
    "language_info": {
      "name": "python"
    }
  },
  "cells": [
    {
      "cell_type": "code",
      "execution_count": null,
      "metadata": {
        "colab": {
          "base_uri": "https://localhost:8080/"
        },
        "id": "amtFR5VrmMPh",
        "outputId": "d9dbf860-291e-4d2e-fd1e-6e52d99c2c06"
      },
      "outputs": [
        {
          "output_type": "stream",
          "name": "stdout",
          "text": [
            "/usr/local/lib/python3.10/dist-packages/gdown/__main__.py:140: FutureWarning: Option `--id` was deprecated in version 4.3.1 and will be removed in 5.0. You don't need to pass it anymore to use a file ID.\n",
            "  warnings.warn(\n",
            "Downloading...\n",
            "From: https://drive.google.com/uc?id=1g0Y27WxxsQCWWagNqUvajlre3tDOKsbM\n",
            "To: /content/syntactic_car_factory_data.csv\n",
            "100% 528k/528k [00:00<00:00, 46.5MB/s]\n"
          ]
        }
      ],
      "source": [
        "!gdown  --id 1g0Y27WxxsQCWWagNqUvajlre3tDOKsbM"
      ]
    },
    {
      "cell_type": "code",
      "source": [
        "import pandas as pd\n",
        "data = pd.read_csv(\"/content/syntactic_car_factory_data.csv\")\n",
        "data.info()"
      ],
      "metadata": {
        "colab": {
          "base_uri": "https://localhost:8080/"
        },
        "id": "jZNzO-z7mWo_",
        "outputId": "7172e84f-c7b7-4bf7-9eba-d5ed5d7c3beb"
      },
      "execution_count": null,
      "outputs": [
        {
          "output_type": "stream",
          "name": "stdout",
          "text": [
            "<class 'pandas.core.frame.DataFrame'>\n",
            "RangeIndex: 3000 entries, 0 to 2999\n",
            "Data columns (total 14 columns):\n",
            " #   Column         Non-Null Count  Dtype  \n",
            "---  ------         --------------  -----  \n",
            " 0   Unnamed: 0     3000 non-null   int64  \n",
            " 1   Sensor_1       2471 non-null   float64\n",
            " 2   Sensor_2       2439 non-null   float64\n",
            " 3   Sensor_3       2460 non-null   float64\n",
            " 4   Sensor_4       2422 non-null   float64\n",
            " 5   Sensor_5       2439 non-null   float64\n",
            " 6   Sensor_6       2477 non-null   float64\n",
            " 7   Sensor_7       2467 non-null   float64\n",
            " 8   Sensor_8       2436 non-null   float64\n",
            " 9   Sensor_9       2415 non-null   float64\n",
            " 10  Sensor_10      2478 non-null   float64\n",
            " 11  Sensor_Status  2469 non-null   object \n",
            " 12  Shift          2451 non-null   object \n",
            " 13  Line           2470 non-null   object \n",
            "dtypes: float64(10), int64(1), object(3)\n",
            "memory usage: 328.2+ KB\n"
          ]
        }
      ]
    },
    {
      "cell_type": "code",
      "source": [
        "data['Sensor_1'] = data['Sensor_1'].fillna(data['Sensor_1'].mean())\n",
        "data['Shift'] = data['Shift'].fillna(data['Shift'].mode()[0])\n",
        "data['Line'] = data['Line'].fillna(data['Line'].mode()[0])\n"
      ],
      "metadata": {
        "id": "uR-IRcTzmxff"
      },
      "execution_count": null,
      "outputs": []
    },
    {
      "cell_type": "markdown",
      "source": [
        "## Find the relationship between sensor 1 readings and shifts"
      ],
      "metadata": {
        "id": "4cZBiFvAoqJ9"
      }
    },
    {
      "cell_type": "code",
      "source": [
        "from scipy.stats import f_oneway\n",
        "# Group sensor readings by shifts\n",
        "sensor_readings = [\n",
        "    data[data['Shift'] == shift]['Sensor_1'] for\n",
        "    shift in data['Shift'].unique()\n",
        "]\n",
        "\n",
        "anova_result = f_oneway(*sensor_readings)\n",
        "print(anova_result)\n",
        "if anova_result.pvalue < 0.05:\n",
        "    print(\"There is a significant difference in sensor readings between shifts.\")\n",
        "else:\n",
        "    print(\"There is no significant difference in sensor readings between shifts.\")"
      ],
      "metadata": {
        "colab": {
          "base_uri": "https://localhost:8080/"
        },
        "id": "Q3TvJHM7onKO",
        "outputId": "28c1abac-6985-4e41-c424-49947e5acb77"
      },
      "execution_count": null,
      "outputs": [
        {
          "output_type": "stream",
          "name": "stdout",
          "text": [
            "F_onewayResult(statistic=0.5494456374551399, pvalue=0.5773278760339522)\n",
            "There is no significant difference in sensor readings between shifts.\n"
          ]
        }
      ]
    },
    {
      "cell_type": "code",
      "source": [
        "import statsmodels.api as sm\n",
        "from statsmodels.formula.api import ols\n",
        "\n",
        "# independent variable shit and line\n",
        "# dependent variable Sensor_1\n",
        "model = ols('Sensor_1 ~ C(Shift) + C(Line) + C(Shift):C(Line)',\n",
        "            data=data).fit()\n",
        "anova_results  = sm.stats.anova_lm(model, type = 2)\n",
        "print(anova_results)\n",
        "# Interpretation\n",
        "alpha = 0.05\n",
        "\n"
      ],
      "metadata": {
        "colab": {
          "base_uri": "https://localhost:8080/"
        },
        "id": "QbYssok6rwzE",
        "outputId": "aa65f65a-29c3-40ae-b374-c8cf6ee24abd"
      },
      "execution_count": null,
      "outputs": [
        {
          "output_type": "stream",
          "name": "stdout",
          "text": [
            "                      df         sum_sq    mean_sq         F    PR(>F)\n",
            "C(Shift)             2.0      95.267185  47.633592  0.548691  0.577764\n",
            "C(Line)              2.0      28.947839  14.473920  0.166725  0.846440\n",
            "C(Shift):C(Line)     4.0     134.482480  33.620620  0.387276  0.817889\n",
            "Residual          2991.0  259658.227414  86.813182       NaN       NaN\n"
          ]
        }
      ]
    },
    {
      "cell_type": "code",
      "source": [],
      "metadata": {
        "id": "-Qvsz_masgfv"
      },
      "execution_count": null,
      "outputs": []
    }
  ]
}